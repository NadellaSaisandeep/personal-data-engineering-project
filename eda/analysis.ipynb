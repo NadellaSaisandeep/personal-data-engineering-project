{
 "cells": [
  {
   "cell_type": "code",
   "execution_count": null,
   "id": "733bff49",
   "metadata": {},
   "outputs": [],
   "source": [
    "# eda/analysis.py\n",
    "\"\"\"\n",
    "Exploratory Data Analysis (EDA) on cleaned B2B product data\n",
    "Generates summary stats and visualizations saved in eda/plots/\n",
    "\"\"\""
   ]
  },
  {
   "cell_type": "code",
   "execution_count": null,
   "id": "5fe07e5b",
   "metadata": {},
   "outputs": [],
   "source": [
    "import os\n",
    "import pandas as pd\n",
    "import matplotlib.pyplot as plt"
   ]
  },
  {
   "cell_type": "code",
   "execution_count": null,
   "id": "9ac308b5",
   "metadata": {},
   "outputs": [],
   "source": [
    "# Ensure directories\n",
    "os.makedirs(\"eda/plots\", exist_ok=True)"
   ]
  },
  {
   "cell_type": "code",
   "execution_count": null,
   "id": "d4cc4ce9",
   "metadata": {},
   "outputs": [],
   "source": [
    "# Load the cleaned data\n",
    "CLEAN_PATH = \"data/extracted/cleaned_products.csv\"\n",
    "if not os.path.exists(CLEAN_PATH):\n",
    "    raise FileNotFoundError(f\"Cleaned file not found at {CLEAN_PATH}\")"
   ]
  },
  {
   "cell_type": "code",
   "execution_count": null,
   "id": "8a50b643",
   "metadata": {},
   "outputs": [],
   "source": [
    "df = pd.read_csv(CLEAN_PATH)\n",
    "print(\"✅ Loaded cleaned data\")\n",
    "print(\"Rows:\", len(df))\n",
    "print(\"Columns:\", list(df.columns))"
   ]
  },
  {
   "cell_type": "code",
   "execution_count": null,
   "id": "f65e374c",
   "metadata": {},
   "outputs": [],
   "source": [
    "# --- Basic overview ---\n",
    "print(\"\\n📊 Category counts:\")\n",
    "print(df['category'].value_counts())"
   ]
  },
  {
   "cell_type": "code",
   "execution_count": null,
   "id": "5d218b6e",
   "metadata": {},
   "outputs": [],
   "source": [
    "print(\"\\n💰 Price summary:\")\n",
    "print(df['price_numeric'].describe())"
   ]
  },
  {
   "cell_type": "code",
   "execution_count": null,
   "id": "4f092b50",
   "metadata": {},
   "outputs": [],
   "source": [
    "# --- Plot 1: Top 10 suppliers ---\n",
    "top_suppliers = df['supplier_name'].value_counts().head(10)\n",
    "plt.figure(figsize=(8,5))\n",
    "top_suppliers.plot(kind='barh', color='teal')\n",
    "plt.gca().invert_yaxis()\n",
    "plt.title(\"Top 10 Suppliers by Listing Count\")\n",
    "plt.xlabel(\"Number of Listings\")\n",
    "plt.tight_layout()\n",
    "plt.savefig(\"eda/plots/top_suppliers.png\")\n",
    "print(\"📈 Saved: eda/plots/top_suppliers.png\")"
   ]
  },
  {
   "cell_type": "code",
   "execution_count": null,
   "id": "43c10f6b",
   "metadata": {},
   "outputs": [],
   "source": [
    "# --- Plot 2: Median price per category ---\n",
    "avg_price = df.groupby('category')['price_numeric'].median().sort_values()\n",
    "plt.figure(figsize=(8,5))\n",
    "avg_price.plot(kind='bar', color='coral')\n",
    "plt.title(\"Median Price by Category\")\n",
    "plt.ylabel(\"Price (INR)\")\n",
    "plt.tight_layout()\n",
    "plt.savefig(\"eda/plots/median_price_by_category.png\")\n",
    "print(\"📈 Saved: eda/plots/median_price_by_category.png\")"
   ]
  },
  {
   "cell_type": "code",
   "execution_count": null,
   "id": "16757fc1",
   "metadata": {},
   "outputs": [],
   "source": [
    "# --- Plot 3: Price distribution ---\n",
    "plt.figure(figsize=(8,5))\n",
    "df['price_numeric'].plot(kind='hist', bins=50, color='skyblue', edgecolor='black')\n",
    "plt.title(\"Price Distribution\")\n",
    "plt.xlabel(\"Price (INR)\")\n",
    "plt.tight_layout()\n",
    "plt.savefig(\"eda/plots/price_distribution.png\")\n",
    "print(\"📈 Saved: eda/plots/price_distribution.png\")"
   ]
  },
  {
   "cell_type": "code",
   "execution_count": null,
   "id": "299b0727",
   "metadata": {},
   "outputs": [],
   "source": [
    "# --- Plot 4: Rating vs Price ---\n",
    "plt.figure(figsize=(8,5))\n",
    "plt.scatter(df['price_numeric'], df['rating'], alpha=0.5, s=10, color='purple')\n",
    "plt.xscale('log')\n",
    "plt.xlabel(\"Price (INR, log scale)\")\n",
    "plt.ylabel(\"Rating\")\n",
    "plt.title(\"Rating vs Price Scatter\")\n",
    "plt.tight_layout()\n",
    "plt.savefig(\"eda/plots/rating_vs_price.png\")\n",
    "print(\"📈 Saved: eda/plots/rating_vs_price.png\")"
   ]
  },
  {
   "cell_type": "code",
   "execution_count": null,
   "id": "98510eff",
   "metadata": {},
   "outputs": [],
   "source": [
    "# --- Plot 5: Listings over time ---\n",
    "df['listed_at'] = pd.to_datetime(df['listed_at'], errors='coerce')\n",
    "df['listed_month'] = df['listed_at'].dt.to_period(\"M\")\n",
    "monthly_counts = df.groupby('listed_month').size()\n",
    "plt.figure(figsize=(8,5))\n",
    "monthly_counts.plot(kind='line', marker='o', color='green')\n",
    "plt.title(\"Listings Over Time (Synthetic Data)\")\n",
    "plt.ylabel(\"Number of Listings\")\n",
    "plt.tight_layout()\n",
    "plt.savefig(\"eda/plots/listings_over_time.png\")\n",
    "print(\"📈 Saved: eda/plots/listings_over_time.png\")"
   ]
  },
  {
   "cell_type": "code",
   "execution_count": null,
   "id": "a95a3e31",
   "metadata": {},
   "outputs": [],
   "source": [
    "print(\"\\n✅ EDA completed! All charts saved in eda/plots/\")"
   ]
  }
 ],
 "metadata": {
  "jupytext": {
   "cell_metadata_filter": "-all",
   "main_language": "python",
   "notebook_metadata_filter": "-all"
  }
 },
 "nbformat": 4,
 "nbformat_minor": 5
}
